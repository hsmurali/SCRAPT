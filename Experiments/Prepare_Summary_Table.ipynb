{
 "cells": [
  {
   "cell_type": "code",
   "execution_count": 2,
   "metadata": {},
   "outputs": [],
   "source": [
    "import numpy as np\n",
    "import pandas as pd\n",
    "import pickle\n",
    "\n",
    "def Return_Cluster_Summaries(s):\n",
    "    d = {}\n",
    "    d['Size of the largest cluster'] = np.max(s)\n",
    "    \n",
    "    d['#Clusters(>=10 Sequences)'] = len(s[s>10])\n",
    "    d['#Sequences(>=10 Sequences)'] = np.sum(s[s>10])\n",
    "    \n",
    "    d['#Clusters(>=100 Sequences)'] = len(s[s>100])\n",
    "    d['#Sequences(>=100 Sequences)'] = np.sum(s[s>100])\n",
    "    \n",
    "    d['#Clusters(>=1000 Sequences)'] = len(s[s>1000])\n",
    "    d['#Sequences(>=1000 Sequences)'] = np.sum(s[s>1000])\n",
    "    \n",
    "    d['#Clusters(>=1000 Sequences)'] = len(s[s>1000])\n",
    "    d['#Sequences(>=1000 Sequences)'] = np.sum(s[s>1000])\n",
    "    \n",
    "    d['#Clusters(>=5000 Sequences)'] = len(s[s>5000])\n",
    "    d['#Sequences(>=5000 Sequences)'] = np.sum(s[s>5000])\n",
    "    \n",
    "    d['#Clusters(>=10000 Sequences)'] = len(s[s>10000])\n",
    "    d['#Sequences(>=10000 Sequences)'] = np.sum(s[s>10000])\n",
    "    \n",
    "    return d\n",
    "\n",
    "d = {'Algorithm':'CDHIT', 'Alpha' : np.nan}\n",
    "\n",
    "similarities = ['0.95','0.96','0.97','0.98','0.99']\n",
    "alpha = [0.1,0.5,1.0,5.0,10.0]\n",
    "filepath = '/Users/harihara/Research-Activities/Data/SCRAPT/Lupus-Microbiome-Published/'\n"
   ]
  },
  {
   "cell_type": "code",
   "execution_count": 3,
   "metadata": {},
   "outputs": [],
   "source": [
    "op = []\n",
    "dnaclust_times = {'0.99':19, '0.98':13, '0.97':8, '0.96':5, '0.95':4}\n",
    "cdhit_times = {'0.99':505, '0.98':243, '0.97':65, '0.96':38, '0.95':37}\n",
    "uclust_times = {'0.99':83,'0.98':43,'0.97':30,'0.96':15,'0.95':10}\n",
    "\n",
    "for s in similarities:\n",
    "    sim = pickle.load(open(filepath+'sim_'+s+'.pkl', 'rb'))\n",
    "    for a in alpha:\n",
    "        d = Return_Cluster_Summaries(np.array(sim[a]['Adaptive_With_Modeshifting']['Clusters']['Density']))\n",
    "        d['Similarity'] = s\n",
    "        d['Algorithm'] = 'SCRAPT'\n",
    "        d['Sampling Rate'] = a\n",
    "        d['Time(In Minutes)'] = np.sum(sim[a]['Adaptive_With_Modeshifting']['Cluster_Summary']['Time(Total)'])\n",
    "        op.append(d)\n",
    "    \n",
    "    d = Return_Cluster_Summaries(np.array(sim['CDHIT']['Clusters']))\n",
    "    d['Similarity'] = s\n",
    "    d['Algorithm'] = 'CDHIT'\n",
    "    d['Time(In Minutes)'] = cdhit_times[s]\n",
    "    op.append(d)\n",
    "    \n",
    "    d = Return_Cluster_Summaries(np.array(sim['DNACLUST']['Clusters']))\n",
    "    d['Similarity'] = s\n",
    "    d['Algorithm'] = 'DNACLUST'\n",
    "    d['Time(In Minutes)'] = cdhit_times[s]\n",
    "    op.append(d)\n",
    "    \n",
    "    d = Return_Cluster_Summaries(np.array(sim['UCLUST']['Clusters']))\n",
    "    d['Similarity'] = s\n",
    "    d['Algorithm'] = 'UCLUST'\n",
    "    d['Time(In Minutes)'] = cdhit_times[s]\n",
    "    op.append(d)\n",
    "\n",
    "df = pd.DataFrame(op)"
   ]
  },
  {
   "cell_type": "code",
   "execution_count": 6,
   "metadata": {},
   "outputs": [],
   "source": [
    "df = df[['Similarity', 'Algorithm', 'Sampling Rate', 'Time(In Minutes)','Size of the largest cluster',\n",
    "          '#Clusters(>=10 Sequences)', '#Sequences(>=10 Sequences)', '#Clusters(>=100 Sequences)',\n",
    "          '#Sequences(>=100 Sequences)', '#Clusters(>=1000 Sequences)', '#Sequences(>=1000 Sequences)',\n",
    "          '#Clusters(>=5000 Sequences)', '#Sequences(>=5000 Sequences)', '#Clusters(>=10000 Sequences)',\n",
    "          '#Sequences(>=10000 Sequences)']]\n",
    "df = df.set_index(['Similarity', 'Algorithm'])"
   ]
  },
  {
   "cell_type": "code",
   "execution_count": 20,
   "metadata": {
    "scrolled": false
   },
   "outputs": [
    {
     "data": {
      "text/plain": [
       "'\\\\begin{tabular}{llrrrrrrrrrrrrr}\\n\\\\toprule\\n     &        &  Sampling Rate &  Time(In Minutes) &  Size of the largest cluster &  \\\\#Clusters(>=10 Sequences) &  \\\\#Sequences(>=10 Sequences) &  \\\\#Clusters(>=100 Sequences) &  \\\\#Sequences(>=100 Sequences) &  \\\\#Clusters(>=1000 Sequences) &  \\\\#Sequences(>=1000 Sequences) &  \\\\#Clusters(>=5000 Sequences) &  \\\\#Sequences(>=5000 Sequences) &  \\\\#Clusters(>=10000 Sequences) &  \\\\#Sequences(>=10000 Sequences) \\\\\\\\\\nSimilarity & Algorithm &                &                   &                              &                            &                             &                             &                              &                              &                               &                              &                               &                               &                                \\\\\\\\\\n\\\\midrule\\n0.95 & SCRAPT &            0.1 &              3.21 &                       114917 &                       1060 &                      962351 &                         338 &                       941461 &                          119 &                        869620 &                           42 &                        700356 &                            20 &                         536682 \\\\\\\\\\n     & SCRAPT &            0.5 &              3.51 &                       114911 &                       1038 &                      962675 &                         346 &                       942006 &                          120 &                        865678 &                           42 &                        685575 &                            21 &                         531107 \\\\\\\\\\n     & SCRAPT &            1.0 &              4.27 &                       114909 &                       1057 &                      962882 &                         345 &                       940723 &                          120 &                        867620 &                           41 &                        675447 &                            20 &                         521981 \\\\\\\\\\n     & SCRAPT &            5.0 &              5.90 &                       114894 &                       1091 &                      963372 &                         339 &                       940566 &                          117 &                        865302 &                           43 &                        699687 &                            19 &                         518288 \\\\\\\\\\n     & SCRAPT &           10.0 &              7.86 &                       114890 &                       1097 &                      963490 &                         340 &                       940375 &                          121 &                        866678 &                           42 &                        687111 &                            21 &                         533794 \\\\\\\\\\n     & CDHIT &            NaN &             37.00 &                       105125 &                       1615 &                      957335 &                         440 &                       921792 &                          129 &                        822254 &                           42 &                        624468 &                            18 &                         448784 \\\\\\\\\\n     & DNACLUST &            NaN &             37.00 &                        80512 &                       1575 &                      953635 &                         446 &                       920756 &                          139 &                        816266 &                           42 &                        596971 &                            15 &                         397786 \\\\\\\\\\n     & UCLUST &            NaN &             37.00 &                        37821 &                       3245 &                      951077 &                         867 &                       876300 &                          156 &                        657815 &                           38 &                        419032 &                            11 &                         225466 \\\\\\\\\\n0.96 & SCRAPT &            0.1 &              3.42 &                       112111 &                       1251 &                      953652 &                         375 &                       927596 &                          125 &                        844639 &                           41 &                        654939 &                            20 &                         502606 \\\\\\\\\\n     & SCRAPT &            0.5 &              3.67 &                       112102 &                       1290 &                      954539 &                         385 &                       927879 &                          128 &                        843561 &                           41 &                        642810 &                            19 &                         485352 \\\\\\\\\\n     & SCRAPT &            1.0 &              3.91 &                       112107 &                       1256 &                      954262 &                         385 &                       927757 &                          127 &                        843465 &                           40 &                        647035 &                            19 &                         494850 \\\\\\\\\\n     & SCRAPT &            5.0 &              6.57 &                       112101 &                       1293 &                      955297 &                         399 &                       927745 &                          126 &                        837494 &                           41 &                        645842 &                            19 &                         486933 \\\\\\\\\\n     & SCRAPT &           10.0 &              7.94 &                       112087 &                       1369 &                      955149 &                         408 &                       926172 &                          123 &                        835217 &                           42 &                        660470 &                            19 &                         491762 \\\\\\\\\\n     & CDHIT &            NaN &             38.00 &                        77805 &                       2123 &                      944896 &                         560 &                       898415 &                          138 &                        768724 &                           40 &                        555641 &                            16 &                         379591 \\\\\\\\\\n     & DNACLUST &            NaN &             38.00 &                        93404 &                       1938 &                      939112 &                         507 &                       899076 &                          134 &                        771463 &                           42 &                        569215 &                            14 &                         371218 \\\\\\\\\\n     & UCLUST &            NaN &             38.00 &                        36368 &                       4825 &                      923319 &                        1016 &                       808477 &                          144 &                        548552 &                           29 &                        309476 &                             9 &                         176780 \\\\\\\\\\n0.97 & SCRAPT &            0.1 &              4.01 &                       106370 &                       1707 &                      927008 &                         452 &                       889000 &                          122 &                        776351 &                           41 &                        606193 &                            16 &                         424038 \\\\\\\\\\n     & SCRAPT &            0.5 &              4.17 &                       106369 &                       1663 &                      928135 &                         466 &                       891787 &                          125 &                        777733 &                           41 &                        604596 &                            16 &                         423912 \\\\\\\\\\n     & SCRAPT &            1.0 &              4.58 &                       106348 &                       1701 &                      929320 &                         473 &                       892322 &                          125 &                        774725 &                           41 &                        604654 &                            16 &                         423431 \\\\\\\\\\n     & SCRAPT &            5.0 &              8.13 &                       106317 &                       1787 &                      930639 &                         494 &                       891340 &                          123 &                        771735 &                           41 &                        602632 &                            16 &                         422016 \\\\\\\\\\n     & SCRAPT &           10.0 &             10.25 &                       106260 &                       1852 &                      930608 &                         483 &                       889099 &                          123 &                        766825 &                           41 &                        601385 &                            16 &                         421632 \\\\\\\\\\n     & CDHIT &            NaN &             65.00 &                        98468 &                       2644 &                      910089 &                         561 &                       849409 &                          125 &                        701619 &                           37 &                        506533 &                            13 &                         336913 \\\\\\\\\\n     & DNACLUST &            NaN &             65.00 &                        95203 &                       2845 &                      891432 &                         623 &                       831296 &                          134 &                        682464 &                           29 &                        454330 &                            13 &                         343945 \\\\\\\\\\n     & UCLUST &            NaN &             65.00 &                        30786 &                       6409 &                      859374 &                        1077 &                       702732 &                          120 &                        451887 &                           25 &                        249496 &                             8 &                         131277 \\\\\\\\\\n0.98 & SCRAPT &            0.1 &              5.47 &                        98559 &                       2199 &                      877836 &                         536 &                       830560 &                          114 &                        696612 &                           35 &                        521072 &                            13 &                         358188 \\\\\\\\\\n     & SCRAPT &            0.5 &              6.12 &                        98516 &                       2149 &                      881212 &                         563 &                       833950 &                          112 &                        691307 &                           34 &                        512060 &                            13 &                         358639 \\\\\\\\\\n     & SCRAPT &            1.0 &              6.27 &                        98522 &                       2165 &                      882808 &                         539 &                       834096 &                          114 &                        696604 &                           35 &                        520980 &                            13 &                         358575 \\\\\\\\\\n     & SCRAPT &            5.0 &              9.51 &                        98355 &                       2338 &                      887263 &                         559 &                       833824 &                          115 &                        694415 &                           34 &                        509659 &                            13 &                         355217 \\\\\\\\\\n     & SCRAPT &           10.0 &             14.51 &                        98423 &                       2443 &                      889097 &                         557 &                       833358 &                          115 &                        692364 &                           34 &                        509474 &                            13 &                         354175 \\\\\\\\\\n     & CDHIT &            NaN &            243.00 &                        95224 &                       3291 &                      847618 &                         623 &                       774056 &                          120 &                        626706 &                           31 &                        433733 &                            11 &                         296256 \\\\\\\\\\n     & DNACLUST &            NaN &            243.00 &                        75404 &                       4305 &                      806712 &                         681 &                       710595 &                          109 &                        542242 &                           29 &                        375725 &                             9 &                         234549 \\\\\\\\\\n     & UCLUST &            NaN &            243.00 &                        26881 &                       6504 &                      763514 &                         932 &                       608708 &                          103 &                        388708 &                           24 &                        221597 &                             7 &                         110279 \\\\\\\\\\n0.99 & SCRAPT &            0.1 &             12.66 &                        45789 &                       4144 &                      599897 &                         623 &                       504205 &                           85 &                        360622 &                           18 &                        209397 &                             5 &                         122282 \\\\\\\\\\n     & SCRAPT &            0.5 &             13.00 &                        45724 &                       3973 &                      608503 &                         640 &                       516293 &                           89 &                        368133 &                           17 &                        203558 &                             5 &                         122104 \\\\\\\\\\n     & SCRAPT &            1.0 &             12.73 &                        45660 &                       3957 &                      613472 &                         619 &                       520286 &                           86 &                        372664 &                           18 &                        212476 &                             5 &                         121927 \\\\\\\\\\n     & SCRAPT &            5.0 &             17.77 &                        45442 &                       4120 &                      639781 &                         692 &                       542393 &                           92 &                        373684 &                           17 &                        204799 &                             5 &                         121220 \\\\\\\\\\n     & SCRAPT &           10.0 &             27.22 &                        45118 &                       4749 &                      662962 &                         745 &                       550454 &                           96 &                        375130 &                           17 &                        201332 &                             5 &                         120432 \\\\\\\\\\n     & CDHIT &            NaN &            505.00 &                        45855 &                       6154 &                      557453 &                         667 &                       412218 &                           68 &                        255954 &                           11 &                        143223 &                             4 &                          97274 \\\\\\\\\\n     & DNACLUST &            NaN &            505.00 &                        20898 &                       9273 &                      433336 &                         702 &                       217350 &                           17 &                         45166 &                            1 &                         20898 &                             1 &                          20898 \\\\\\\\\\n     & UCLUST &            NaN &            505.00 &                        15982 &                       4728 &                      391396 &                         550 &                       281796 &                           45 &                        143917 &                            6 &                         59162 &                             3 &                          41823 \\\\\\\\\\n\\\\bottomrule\\n\\\\end{tabular}\\n'"
      ]
     },
     "execution_count": 20,
     "metadata": {},
     "output_type": "execute_result"
    }
   ],
   "source": [
    "df.to_latex()"
   ]
  },
  {
   "cell_type": "code",
   "execution_count": 8,
   "metadata": {},
   "outputs": [],
   "source": []
  },
  {
   "cell_type": "code",
   "execution_count": null,
   "metadata": {},
   "outputs": [],
   "source": []
  }
 ],
 "metadata": {
  "kernelspec": {
   "display_name": "Python 3",
   "language": "python",
   "name": "python3"
  },
  "language_info": {
   "codemirror_mode": {
    "name": "ipython",
    "version": 3
   },
   "file_extension": ".py",
   "mimetype": "text/x-python",
   "name": "python",
   "nbconvert_exporter": "python",
   "pygments_lexer": "ipython3",
   "version": "3.7.3"
  }
 },
 "nbformat": 4,
 "nbformat_minor": 2
}
